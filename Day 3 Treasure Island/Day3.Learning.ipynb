{
 "metadata": {
  "language_info": {
   "codemirror_mode": {
    "name": "ipython",
    "version": 3
   },
   "file_extension": ".py",
   "mimetype": "text/x-python",
   "name": "python",
   "nbconvert_exporter": "python",
   "pygments_lexer": "ipython3",
   "version": "3.8.8"
  },
  "orig_nbformat": 2,
  "kernelspec": {
   "name": "python388jvsc74a57bd04a5438f1c80dae9f2a8c5962722973278b22b83662b8213443aed17bcfe4ffc5",
   "display_name": "Python 3.8.8 64-bit ('base': conda)"
  }
 },
 "nbformat": 4,
 "nbformat_minor": 2,
 "cells": [
  {
   "cell_type": "code",
   "execution_count": 1,
   "metadata": {},
   "outputs": [],
   "source": [
    "# Conditional Statements\n",
    "# Code Blocks\n",
    "# Logical Operators\n",
    "# Scope"
   ]
  },
  {
   "cell_type": "code",
   "execution_count": 2,
   "metadata": {},
   "outputs": [
    {
     "output_type": "stream",
     "name": "stdout",
     "text": [
      "Would you like to ride the roller coaster?\n",
      "No you can not ride the roller coaster!\n"
     ]
    }
   ],
   "source": [
    "# Roller Coaster\n",
    "print(\"Would you like to ride the roller coaster?\")\n",
    "height = int(input(\"Enter you height in cms :\"))\n",
    "if height >= 130:\n",
    "    print(\"Get in!\")\n",
    "else:\n",
    "    print(\"No you can not ride the roller coaster!\")"
   ]
  },
  {
   "cell_type": "code",
   "execution_count": 3,
   "metadata": {},
   "outputs": [
    {
     "output_type": "stream",
     "name": "stdout",
     "text": [
      "False\nFalse\nTrue\nFalse\nTrue\nTrue\n"
     ]
    }
   ],
   "source": [
    "# Multiple comparisons\n",
    "print(3 == 4)\n",
    "print(3 > 4)\n",
    "print(3 < 4)\n",
    "print(3 >= 4)\n",
    "print(3 <= 4)\n",
    "print(3 != 4)"
   ]
  },
  {
   "cell_type": "code",
   "execution_count": 7,
   "metadata": {},
   "outputs": [
    {
     "output_type": "stream",
     "name": "stdout",
     "text": [
      "Enter a number.\n",
      "23 is an Odd number\n"
     ]
    }
   ],
   "source": [
    "# Day 3.1 Odd or Even Challenge\n",
    "print(\"Enter a number.\")\n",
    "num = int(input(\"Number: \"))\n",
    "if num % 2 == 0:\n",
    "    print(f\"{num} is an Even Number\")\n",
    "else:\n",
    "    print(f\"{num} is an Odd number\")"
   ]
  },
  {
   "cell_type": "code",
   "execution_count": 9,
   "metadata": {},
   "outputs": [
    {
     "output_type": "stream",
     "name": "stdout",
     "text": [
      "BMI Calculator!\n",
      "Your bmi is 23.1 and you are Normal weight!\n"
     ]
    }
   ],
   "source": [
    "# Daye 3.2 BMI Calculator\n",
    "print(\"BMI Calculator!\")\n",
    "height = float(input(\"Enter your height in mtrs: \"))\n",
    "weight = float(input(\"Enter your weight in kgs : \"))\n",
    "bmi = round(weight/(height ** 2),1)\n",
    "if bmi < 18.5:\n",
    "    print(f\"Your bmi is {bmi} and you are Under weight!\")\n",
    "elif bmi <= 25:\n",
    "    print(f\"Your bmi is {bmi} and you are Normal weight!\")\n",
    "elif bmi <= 30:\n",
    "    print(f\"Your bmi is {bmi} and you are Over weight!\")\n",
    "elif bmi <= 35:\n",
    "    print(f\"Your bmi is {bmi} and you are Obese!\")\n",
    "else :\n",
    "    print(f\"Your bmi is {bmi} and you are Clinically Obese!\")"
   ]
  },
  {
   "cell_type": "code",
   "execution_count": 12,
   "metadata": {},
   "outputs": [
    {
     "output_type": "stream",
     "name": "stdout",
     "text": [
      "2200 is a not a leap year!\n"
     ]
    }
   ],
   "source": [
    "# Day 3.3 Leap year Challenge\n",
    "year = int(input(\"Enter year :\"))\n",
    "if year % 4 == 0:\n",
    "    if year % 100 == 0:\n",
    "        if year % 400 == 0:\n",
    "            print(f\"{year} is a leap year!\")\n",
    "        else:\n",
    "            print(f\"{year} is a not a leap year!\")\n",
    "    else:\n",
    "        print(f\"{year} is a leap year!\")\n",
    "else:\n",
    "    print(f\"{year} is not a leap year!\")"
   ]
  },
  {
   "cell_type": "code",
   "execution_count": 13,
   "metadata": {},
   "outputs": [
    {
     "output_type": "stream",
     "name": "stdout",
     "text": [
      "Welcome to Pizza Store!\n",
      "What size pizz you like to have?\n",
      "Would you like Pepporoni on it?\n",
      "Would you like extra cheese on it? \n",
      "Your final bill is : $21.\n"
     ]
    }
   ],
   "source": [
    "# Day 3.4 Pizza\n",
    "#Small Pizza: $15\n",
    "#Medium Pizza: $20\n",
    "#Large Pizza: $25\n",
    "#Pepperoni for Small Pizza: +$2\n",
    "#Pepperoni for Medium or Large Pizza: +$3\n",
    "#Extra cheese for any size pizza: + $1\n",
    "print(\"Welcome to Pizza Store!\")\n",
    "print(\"What size pizz you like to have?\")\n",
    "pizza_size = input(\"Enter 's' for Small, 'm' for medium pizza and 'l' for large pizza. \")\n",
    "print(\"Would you like Pepporoni on it?\")\n",
    "pepperoni = input(\"Enter 'y' for yes and 'n' for no. \")\n",
    "print(\"Would you like extra cheese on it? \")\n",
    "cheese = input(\"Enter 'y' for yes and 'n' for no. \")\n",
    "price = 0\n",
    "if pizza_size == \"s\":\n",
    "    price += 15\n",
    "    if pepperoni == \"y\":\n",
    "        price += 2\n",
    "elif pizza_size == \"m\":\n",
    "    price += 20\n",
    "    if pepperoni == \"y\":\n",
    "        price += 3\n",
    "else:\n",
    "    price += 25\n",
    "    if pepperoni == \"y\":\n",
    "        price += 3\n",
    "if cheese == \"y\":\n",
    "    price += 1\n",
    "\n",
    "print(f\"Your final bill is : ${price}.\")"
   ]
  },
  {
   "cell_type": "code",
   "execution_count": 24,
   "metadata": {},
   "outputs": [
    {
     "output_type": "stream",
     "name": "stdout",
     "text": [
      "Both of you are compatability is 11%. \n"
     ]
    }
   ],
   "source": [
    "# Day 3.5 Love Calculator\n",
    "name1 = input(\"Enter name 1: \")\n",
    "name2 = input(\"Enter name 2: \")\n",
    "name1 = name1.lower()\n",
    "name2 = name2.lower()\n",
    "combined_name = name1+name2\n",
    "percent1 = combined_name.count('t') + combined_name.count('r') + combined_name.count('u') + combined_name.count('e')\n",
    "percent2 = combined_name.count('l') + combined_name.count('o') + combined_name.count('v') + combined_name.count('e')\n",
    "total_percent =  percent1*10 + percent2\n",
    "message = \"\"\n",
    "if total_percent < 10 or total_percent > 90:\n",
    "    message = \"You go like Coke and Mentos!\"\n",
    "elif total_percent > 40 and total_percent < 50:\n",
    "    message = \"You are alright!\"\n",
    "print(f\"Both of you are compatability is {total_percent}%. \"+ message)"
   ]
  },
  {
   "cell_type": "code",
   "execution_count": null,
   "metadata": {},
   "outputs": [],
   "source": []
  }
 ]
}