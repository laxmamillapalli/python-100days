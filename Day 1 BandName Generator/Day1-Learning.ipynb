{
 "metadata": {
  "language_info": {
   "codemirror_mode": {
    "name": "ipython",
    "version": 3
   },
   "file_extension": ".py",
   "mimetype": "text/x-python",
   "name": "python",
   "nbconvert_exporter": "python",
   "pygments_lexer": "ipython3",
   "version": "3.8.8"
  },
  "orig_nbformat": 2,
  "kernelspec": {
   "name": "python388jvsc74a57bd04a5438f1c80dae9f2a8c5962722973278b22b83662b8213443aed17bcfe4ffc5",
   "display_name": "Python 3.8.8 64-bit ('base': conda)"
  }
 },
 "nbformat": 4,
 "nbformat_minor": 2,
 "cells": [
  {
   "cell_type": "code",
   "execution_count": 1,
   "metadata": {},
   "outputs": [
    {
     "output_type": "stream",
     "name": "stdout",
     "text": [
      "Hello world!\nHello world!\n"
     ]
    }
   ],
   "source": [
    "# Next Line\n",
    "print(\"Hello world!\\nHello world!\")"
   ]
  },
  {
   "cell_type": "code",
   "execution_count": 2,
   "metadata": {},
   "outputs": [
    {
     "output_type": "stream",
     "name": "stdout",
     "text": [
      "HelloAngela\nHello Angela\n"
     ]
    }
   ],
   "source": [
    "# Concatenate the Stinrgs\n",
    "# Add name to Hello, World\n",
    "print(\"Hello\" + \"Angela\")\n",
    "\n",
    "# Add a space\n",
    "print(\"Hello \" + \"Angela\")"
   ]
  },
  {
   "cell_type": "code",
   "execution_count": 3,
   "metadata": {},
   "outputs": [
    {
     "output_type": "error",
     "ename": "IndentationError",
     "evalue": "unexpected indent (<ipython-input-3-785923f89cf7>, line 2)",
     "traceback": [
      "\u001b[1;36m  File \u001b[1;32m\"<ipython-input-3-785923f89cf7>\"\u001b[1;36m, line \u001b[1;32m2\u001b[0m\n\u001b[1;33m    print(\"Something\")\u001b[0m\n\u001b[1;37m    ^\u001b[0m\n\u001b[1;31mIndentationError\u001b[0m\u001b[1;31m:\u001b[0m unexpected indent\n"
     ]
    }
   ],
   "source": [
    "# Indentation Error\n",
    "    print(\"Something\")"
   ]
  },
  {
   "cell_type": "code",
   "execution_count": 4,
   "metadata": {},
   "outputs": [
    {
     "output_type": "error",
     "ename": "SyntaxError",
     "evalue": "EOL while scanning string literal (<ipython-input-4-df1f6881cb54>, line 2)",
     "traceback": [
      "\u001b[1;36m  File \u001b[1;32m\"<ipython-input-4-df1f6881cb54>\"\u001b[1;36m, line \u001b[1;32m2\u001b[0m\n\u001b[1;33m    print(\"Hello)\u001b[0m\n\u001b[1;37m                 ^\u001b[0m\n\u001b[1;31mSyntaxError\u001b[0m\u001b[1;31m:\u001b[0m EOL while scanning string literal\n"
     ]
    }
   ],
   "source": [
    "# Syntax Error\n",
    "print(\"Hello)"
   ]
  },
  {
   "cell_type": "code",
   "execution_count": 5,
   "metadata": {},
   "outputs": [
    {
     "output_type": "error",
     "ename": "SyntaxError",
     "evalue": "invalid syntax (<ipython-input-5-1e6215c9c3f5>, line 4)",
     "traceback": [
      "\u001b[1;36m  File \u001b[1;32m\"<ipython-input-5-1e6215c9c3f5>\"\u001b[1;36m, line \u001b[1;32m4\u001b[0m\n\u001b[1;33m    print(Day 1 - String Manipulation\")\u001b[0m\n\u001b[1;37m              ^\u001b[0m\n\u001b[1;31mSyntaxError\u001b[0m\u001b[1;31m:\u001b[0m invalid syntax\n"
     ]
    }
   ],
   "source": [
    "# Day 1.2 Exercise\n",
    "#Fix the code below 👇\n",
    "\n",
    "print(Day 1 - String Manipulation\")\n",
    "print(\"String Concatenation is done with the \"+\" sign.\")\n",
    "  print('e.g. print(\"Hello \" + \"world\")')\n",
    "print((\"New lines can be created with a backslash and n.\")"
   ]
  },
  {
   "cell_type": "code",
   "execution_count": 8,
   "metadata": {},
   "outputs": [
    {
     "output_type": "stream",
     "name": "stdout",
     "text": [
      "Day 1 - String Manipulation\nString Concatenation is done with the \"+\" sign.\ne.g. print(\"Hello \" + \"world\")\nNew lines can be created with a backslash and n.\n"
     ]
    }
   ],
   "source": [
    "# Fixed Code\n",
    "print(\"Day 1 - String Manipulation\")\n",
    "print('String Concatenation is done with the \"+\" sign.')\n",
    "print('e.g. print(\"Hello \" + \"world\")')\n",
    "print(\"New lines can be created with a backslash and n.\")"
   ]
  },
  {
   "cell_type": "code",
   "execution_count": 12,
   "metadata": {},
   "outputs": [
    {
     "output_type": "stream",
     "name": "stdout",
     "text": [
      "The number of characters in your input string is 5\n"
     ]
    }
   ],
   "source": [
    "# Day 1.3 Exercise\n",
    "# Print number of Characters in the input\n",
    "inputText = input(\"Please provide some input: \")\n",
    "numberOfChars = len(inputText)\n",
    "print(f\"The number of characters in your input string is {numberOfChars}\")"
   ]
  },
  {
   "cell_type": "code",
   "execution_count": 13,
   "metadata": {},
   "outputs": [
    {
     "output_type": "stream",
     "name": "stdout",
     "text": [
      "After exchanging first value is 3 and second values is 2.\n"
     ]
    }
   ],
   "source": [
    "# Day 1.4 Exercise\n",
    "# Ask for two values and interchange them\n",
    "a = input(\"First Value: \")\n",
    "b = input(\"Second Value: \")\n",
    "c = a\n",
    "a = b\n",
    "b = c\n",
    "print(f\"After exchanging first value is {a} and second values is {b}.\")"
   ]
  },
  {
   "cell_type": "code",
   "execution_count": null,
   "metadata": {},
   "outputs": [],
   "source": [
    "# Variable naming\n",
    "# Use _ or userName for naming practices and be consistent "
   ]
  }
 ]
}