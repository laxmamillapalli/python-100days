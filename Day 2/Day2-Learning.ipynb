{
 "metadata": {
  "language_info": {
   "codemirror_mode": {
    "name": "ipython",
    "version": 3
   },
   "file_extension": ".py",
   "mimetype": "text/x-python",
   "name": "python",
   "nbconvert_exporter": "python",
   "pygments_lexer": "ipython3",
   "version": "3.8.8"
  },
  "orig_nbformat": 2,
  "kernelspec": {
   "name": "python388jvsc74a57bd04a5438f1c80dae9f2a8c5962722973278b22b83662b8213443aed17bcfe4ffc5",
   "display_name": "Python 3.8.8 64-bit ('base': conda)"
  }
 },
 "nbformat": 4,
 "nbformat_minor": 2,
 "cells": [
  {
   "cell_type": "code",
   "execution_count": 1,
   "metadata": {},
   "outputs": [
    {
     "output_type": "stream",
     "name": "stdout",
     "text": [
      "H\n"
     ]
    }
   ],
   "source": [
    "# Data Types\n",
    "# 1.Strings\n",
    "print(\"Hello\"[0]) # Prints first letter of Hello --> H\n",
    "# This method is called subscripting"
   ]
  },
  {
   "cell_type": "code",
   "execution_count": 2,
   "metadata": {},
   "outputs": [
    {
     "output_type": "stream",
     "name": "stdout",
     "text": [
      "123456\n"
     ]
    }
   ],
   "source": [
    "# Strings of numbers are still strings\n",
    "print(\"123\"+\"456\")"
   ]
  },
  {
   "cell_type": "code",
   "execution_count": 3,
   "metadata": {},
   "outputs": [
    {
     "output_type": "stream",
     "name": "stdout",
     "text": [
      "579\n"
     ]
    }
   ],
   "source": [
    "# This will give you sum\n",
    "print(123+456)"
   ]
  },
  {
   "cell_type": "code",
   "execution_count": 5,
   "metadata": {},
   "outputs": [
    {
     "output_type": "stream",
     "name": "stdout",
     "text": [
      "<class 'int'>\n<class 'float'>\n<class 'str'>\n<class 'bool'>\n"
     ]
    }
   ],
   "source": [
    "i = 123\n",
    "print(type(i))\n",
    "j = 3.1415\n",
    "print(type(j))\n",
    "k = \"hgakl\"\n",
    "print(type(k))\n",
    "l = True\n",
    "print(type(l))"
   ]
  },
  {
   "cell_type": "code",
   "execution_count": 6,
   "metadata": {},
   "outputs": [
    {
     "output_type": "stream",
     "name": "stdout",
     "text": [
      "123346\n"
     ]
    }
   ],
   "source": [
    "# Long numbers\n",
    "print(123_345 + 1)"
   ]
  },
  {
   "cell_type": "code",
   "execution_count": 7,
   "metadata": {},
   "outputs": [
    {
     "output_type": "stream",
     "name": "stdout",
     "text": [
      "122346\n"
     ]
    }
   ],
   "source": [
    "print(12_23_45 + 1)"
   ]
  },
  {
   "cell_type": "code",
   "execution_count": 8,
   "metadata": {},
   "outputs": [
    {
     "output_type": "stream",
     "name": "stdout",
     "text": [
      "5\n"
     ]
    }
   ],
   "source": [
    "# Code Challenge 2.1\n",
    "two_digit_number = input(\"Type a two digit number: \")\n",
    "sum_of_digits = int(two_digit_number[0]) + int(two_digit_number[1])\n",
    "print(sum_of_digits)"
   ]
  },
  {
   "cell_type": "code",
   "execution_count": 9,
   "metadata": {},
   "outputs": [
    {
     "output_type": "stream",
     "name": "stdout",
     "text": [
      "Your BMI is 33\n"
     ]
    }
   ],
   "source": [
    "# Coding Challenge 2.2\n",
    "# BMI Calculator\n",
    "height = float(input(\"Please input height in Mtrs: \"))\n",
    "weight = float(input(\"Please input weight in Kgs: \"))\n",
    "bmi = int(round(weight/(height**2),0))\n",
    "print(f\"Your BMI is {bmi}\")"
   ]
  },
  {
   "cell_type": "code",
   "execution_count": 2,
   "metadata": {},
   "outputs": [
    {
     "output_type": "stream",
     "name": "stdout",
     "text": [
      "2\n2.67\n2\n"
     ]
    }
   ],
   "source": [
    "# Floor Divison, rounding and remainders\n",
    "print(8//3)\n",
    "print(round(8/3,2))\n",
    "print(8%3)"
   ]
  },
  {
   "cell_type": "code",
   "execution_count": 3,
   "metadata": {},
   "outputs": [
    {
     "output_type": "stream",
     "name": "stdout",
     "text": [
      "1\n0\n"
     ]
    }
   ],
   "source": [
    "# SHort hands\n",
    "score = 0\n",
    "score += 1 # adds one to score\n",
    "print(score)\n",
    "score -= 1 # Subtracts 1\n",
    "print(score)"
   ]
  },
  {
   "cell_type": "code",
   "execution_count": 5,
   "metadata": {},
   "outputs": [
    {
     "output_type": "stream",
     "name": "stdout",
     "text": [
      "You have 20075 days, 2860 weeks, and 660 months left!\n"
     ]
    }
   ],
   "source": [
    "# Coding Challenge 2.3\n",
    "age = int(input(\"Please input your age: \"))\n",
    "remaining_years = 90-age\n",
    "print(f\"You have {remaining_years*365} days, {remaining_years*52} weeks, and {remaining_years*12} months left!\")"
   ]
  },
  {
   "cell_type": "code",
   "execution_count": null,
   "metadata": {},
   "outputs": [],
   "source": []
  }
 ]
}